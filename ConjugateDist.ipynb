{
 "cells": [
  {
   "cell_type": "markdown",
   "metadata": {},
   "source": [
    "<head>\n",
    "  <script type=\"text/x-mathjax-config\"> MathJax.Hub.Config({ TeX: { equationNumbers: { tags: 'ams' } } }); </script>\n",
    "  <script type=\"text/x-mathjax-config\">\n",
    "    MathJax.Hub.Config({\n",
    "      tex2jax: {\n",
    "        extensions: [\"amsthm.js\", \"AMSmath.js\",\"AMSsymbols.js\", \"autobold.js\"],\n",
    "        inlineMath: [ ['$','$'], [\"\\\\(\",\"\\\\)\"] ],\n",
    "         displayMath: [ ['$$','$$'], [\"\\\\[\",\"\\\\]\"] ],\n",
    "         processEscapes: true\n",
    "      }\n",
    "    });\n",
    "  </script>\n",
    "  <script src=\"https://cdn.mathjax.org/mathjax/latest/MathJax.js?config=TeX-AMS-MML_HTMLorMML\" type=\"text/javascript\">\n",
    "  </script>\n",
    "  <meta name=\"google-site-verification\" content=\"kuks5e4as6qBaGVCSzmHkQJa5Tss89_g5DmRXeUi7K8\" />\n",
    "\n",
    "  <style> \n",
    "  body{\n",
    "    .previous {\n",
    "    background-color: #f1f1f1;\n",
    "    color: black;\n",
    "    }\n",
    "    .next {\n",
    "      background-color: #04AA6D;\n",
    "      color: white;\n",
    "    }\n",
    "    .example,.theorem,.lemma,.problem, .definition {\n",
    "       font-weight:bold; \n",
    "    }\n",
    "  }\n",
    "  </style>\n",
    "</head>\n"
   ]
  },
  {
   "cell_type": "markdown",
   "metadata": {},
   "source": [
    "<a href=\"index\" class=\"previous\"> &laquo; Previous</a>    <a href=\"HypothesisTest\" class=\"next\">Next &raquo;</a>  \n"
   ]
  },
  {
   "cell_type": "markdown",
   "metadata": {},
   "source": [
    "<h1> Conjugate Distributions </h1>"
   ]
  },
  {
   "cell_type": "markdown",
   "metadata": {},
   "source": [
    "We already saw in the <a href=\"index\">introduction </a> that if one has a random sample $Y_1, \\dots, Y_n$ such that \n",
    "\n",
    "$$\n",
    "\\begin{equation*}\n",
    "Y_i \\vert \\theta \\sim Ber(\\theta)\\quad \\text{and} \\quad \\theta \\sim \\mathcal{U}(0,1) = Beta(1,1)\n",
    "\\end{equation*}\n",
    "$$\n",
    "\n"
   ]
  },
  {
   "cell_type": "markdown",
   "metadata": {},
   "source": [
    "then the posterior distribution of $\\theta$ is again a Beta distribution $Beta(1 + \\sum_{i}y_i, 1 + n -\\sum_{i}y_{i})$. We say that the Beta distribution is conjugate to the Binomial distribution.\n",
    "\n",
    "In this section we will see this in more detail and a few more examples."
   ]
  },
  {
   "cell_type": "markdown",
   "metadata": {},
   "source": [
    "<span class = \"definition\"> Definition </span>  (Conjugate Distribution)<br>\n",
    "A class $\\mathcal{P}$ of prior distributions for $\\theta$ is said to be conjugate to the sampling model $p(y_1,\\dots, y_n \\vert \\theta)$ if\n",
    "\n",
    "$$\n",
    "p(\\theta) \\in \\mathcal{P} \\Rightarrow p(\\theta \\vert y_1, \\dots, y_n) \\in \\mathcal{P}\n",
    "$$\n",
    "\n"
   ]
  },
  {
   "cell_type": "markdown",
   "metadata": {},
   "source": [
    "<h2> Binomial Model </h2>\n",
    "\n",
    "For binomial sample data let's consider the following prior:"
   ]
  },
  {
   "cell_type": "markdown",
   "metadata": {},
   "source": [
    "<h3> Prior Beta </h3>\n",
    "\n",
    "Recall that if $X\\sim Beta(\\alpha, \\beta)$ then its density function is\n",
    "\n",
    "$$\n",
    "f_X(x) = \\frac{\\Gamma(\\alpha +\\beta)}{\\Gamma(\\alpha)\\Gamma(\\beta)}x^{\\alpha-1}(1-x)^{\\beta -1}{\\bf 1}_{(0,1)}(x)\n",
    "$$\n",
    "\n",
    "Let $\\theta \\in \\Theta$ a parameter of interest. Let $Y_1,\\dots,Y_n$ be a $\\theta$ random sample, that is, the variables are conditional on $\\theta$ independent and identically distributed, with distribution given by $Y_i \\vert \\theta \\sim Ber(\\theta)$.\n",
    "\n",
    "Suppose that our prior believe on $\\theta$ is that $\\theta \\sim Beta(\\alpha_{prior}, \\beta_{prior})$ for some $\\alpha_{prior}, \\beta_{prior}>0$ to be specified, then the posterior distribution of $\\theta$ computed using Bayes rule is:\n",
    "\n",
    "$$\n",
    "p(\\theta \\vert y_1, \\dots, y_n) = \\frac{p(y_1,\\dots, y_n \\vert \\theta)p(\\theta)}{p(y_1,\\dots, y_n)}\n",
    "$$\n",
    "\n",
    "where $p(y_1,\\dots, y_n):=\\int_{0}^{1} p(y_1,\\dots, y_n \\vert \\theta)p(\\theta)\\,d\\theta$"
   ]
  },
  {
   "cell_type": "markdown",
   "metadata": {},
   "source": [
    "Since $Y_1,\\dots, Y_n$ is a $\\theta$ random sample, then \n",
    "$$\n",
    "p(y_1,\\dots, y_n \\vert \\theta) = \\prod_{i=1}^{n}p(y_i \\vert \\theta) = \\prod_{i=1}^{n}\\theta^{y_i}(1-\\theta)^{1-y_i} = \\theta^{\\sum_{i}y_i}(1-\\theta)^{n -\\sum_{i}y_i}\n",
    "$$\n",
    "where by $\\sum_{i}y_i$ we mean $\\sum_{i=1}^n y_i$."
   ]
  },
  {
   "cell_type": "markdown",
   "metadata": {},
   "source": [
    "Therefore the numerator in the posterior is:\n",
    "<a id = \"expression\">\n",
    "$$\n",
    "\\begin{align}\n",
    "&\\frac{\\Gamma(\\alpha_{prior} +\\beta_{prior})}{\\Gamma(\\alpha_{prior})\\Gamma(\\beta_{prior})}\\theta^{\\alpha_{prior}-1}(1-\\theta)^{\\beta_{prior} -1} \\theta^{\\sum_{i}y_i}(1-\\theta)^{n -\\sum_{i}y_i} \\notag\\\\\n",
    "  \\notag\\\\\n",
    "=& \\frac{\\Gamma(\\alpha_{prior} +\\beta_{prior})}{\\Gamma(\\alpha_{prior})\\Gamma(\\beta_{prior})}\\theta^{\\alpha_{prior} + \\sum_{i}y_i -1}(1-\\theta)^{\\beta_{prior}+ n -\\sum_{i}y_i -1} \\tag{1}\n",
    "\\end{align}\n",
    "$$\n",
    "</a>\n",
    "\n"
   ]
  },
  {
   "cell_type": "markdown",
   "metadata": {},
   "source": [
    "\n",
    "Meanwhile the denominator is simply the integral with respect to $\\theta$ of the last expression above [(1)](#expression) , this is because the posterior is a probability density. By use of the following property:\n",
    "\n",
    "$$\n",
    "\\int_{0}^1 x^{a-1}(1-x)^{b-1} \\,dx= \\frac{\\Gamma(a)\\Gamma(b)}{\\Gamma(a+b)} \n",
    "$$\n"
   ]
  },
  {
   "cell_type": "markdown",
   "metadata": {},
   "source": [
    "we conclude that the denominator is:\n",
    "\n",
    "$$\n",
    "p(y_1,\\dots, y_n) = \\frac{\\Gamma(\\alpha_{prior}+\\sum_{i}y_i)\\Gamma(\\beta_{prior} +n -\\sum_{i}y_i)}{\\Gamma(\\alpha_{prior} + \\beta_{prior} +n)}.\n",
    "$$\n",
    "\n",
    "Thus the final expression for the posterior distribution is:\n",
    "\n",
    "$$\n",
    "p(\\theta \\vert y_1,\\dots y_n) = \\frac{\\Gamma(\\alpha_{prior} + \\beta_{prior} +n)}{\\Gamma(\\alpha_{prior}+\\sum_{i}y_i)\\Gamma(\\beta_{prior} +n -\\sum_{i}y_i)}\\theta^{\\alpha_{prior} + \\sum_{i}y_i -1}(1-\\theta)^{\\beta_{prior}+ n -\\sum_{i}y_i -1} {\\bf 1}_{[0,1]}(\\theta).\n",
    "$$\n",
    "\n",
    "In other words \n",
    "$$\n",
    "\\theta\\sim Beta(\\alpha_{post}, \\beta_{post}) \\quad \\text{with} \\quad \\alpha_{post} =\\alpha_{prior} + \\sum_{i}y_i, \\quad \\text{and} \\quad \\beta_{post}= \\beta_{prior} + n - \\sum_{i}y_i\n",
    "$$\n"
   ]
  },
  {
   "cell_type": "markdown",
   "metadata": {},
   "source": [
    "For this posterior distribution we will have the posterior expected mean is:\n",
    "\n",
    "$$\n",
    "\\begin{align*}\n",
    "\\mathbb{E}(\\theta \\vert y_1, \\dots, y_n) = & \\frac{\\alpha_{post}}{\\alpha_{post} +\\beta_{post}} \\\\\n",
    "= & \\frac{\\alpha_{prior} + \\sum_{i}y_i}{\\alpha_{prior} + \\beta_{prior} + n }\\\\\n",
    "= & \\frac{n}{\\alpha_{prior} + \\beta_{prior} + n}\\bar{y}_n + \\frac{\\alpha_{prior} + \\beta_{prior}}{\\alpha_{prior} + \\beta_{prior} + n}\\frac{\\alpha_{prior}}{\\alpha_{prior} +\\beta_{prior}}\\\\\n",
    "\\end{align*}\n",
    "$$\n",
    "\n",
    "and the posterior mode is:\n",
    "\n",
    "$$\n",
    "mode = \\frac{\\alpha_{post} -1}{\\alpha_{post} +\\beta_{post}-2} = \\frac{\\alpha_{prior}+\\sum_i y_i - 1}{\\alpha_{prior} +\\beta_{prior} +n -2}.\n",
    "$$\n",
    "\n",
    "where $\\bar y_n = \\frac{\\sum_{i=1}^n y_i}{n}$. That is, the posterior expected value is a weighted average between the sample mean $\\bar{y}_n$ and the prior expected value. Due to this weighted average, the quantity $\\alpha_{prior}+\\beta_{prior}$ is called sometimes the *effective size* while of course, $n$ is the sample size.\n",
    "\n",
    "Note that if $\\alpha_{prior}=\\beta_{prior} = 1$ then the posterior mode is $\\bar{y}_n$, and this esimate was the one obtained (via the frquentist approach) previously in the survey example from the <a href=\"index\">Introduction </a>. The posterior mode is called the *Maximum Aposteriori* estimation (MAP). This tells us that for Binomial data and a uniform prior for $\\theta$,  the maximum likelihood estimator and the maximum aposteiori estimator coincide.\n",
    "\n",
    "\n"
   ]
  },
  {
   "cell_type": "markdown",
   "metadata": {},
   "source": [
    "<h3> Prediction </h3>\n",
    "\n",
    "An important feature in this approach is the existence of a  predictive distribution. Let us assume we are in the same case as before, where the prior for $\\theta$ is $Beta(1,1)$ and the data is, conditionally on $\\theta$ iid with $Y_i \\vert \\theta \\sim Ber(\\theta)$ for $i=1, \\dots, n$. \n",
    "\n",
    "Now, consider a new datapoint, one that has not be seen before, let's call this new observation $Y_{new}$ (we use capital letters since we are assuming this has not been observed so it is random) from the same population, then the *predictive distribution* of $Y_{new}$ can be computed as follows:\n",
    "\n",
    "$$\n",
    "\\begin{align*}\n",
    "p_{Y_{new}}(y \\vert y_1,\\dots, y_n) = & \\int_{\\theta \\in \\Theta}p(y, \\theta \\vert y_1,\\dots, y_n)\\,d\\theta \\\\\n",
    "= & \\int_{\\theta \\in \\Theta}p(y \\vert \\theta, y_1,\\dots, y_n)p(\\theta \\vert y_1,\\dots, y_n)\\,d\\theta \\\\\n",
    "= & \\int_{\\theta \\in \\Theta} \\theta p(\\theta \\vert y_1,\\dots, y_n)\\,d\\theta = \\mathbb{E}(\\theta \\vert y_1, \\dots, y_n)\n",
    "\\end{align*}\n",
    "$$\n",
    "\n",
    "In this case, we will have:\n",
    "\n",
    "$$\n",
    "\\mathbb{P}(Y_{new} = 1\\vert y_1,\\dots, y_n) = \\frac{n}{2 + n}\\bar{y}_n + \\frac{2}{2 + n}\\frac{1}{2}\n",
    "$$\n"
   ]
  },
  {
   "cell_type": "markdown",
   "metadata": {},
   "source": [
    "Lets make some simulations to see these results in action!"
   ]
  },
  {
   "cell_type": "code",
   "execution_count": 13,
   "metadata": {},
   "outputs": [],
   "source": [
    "# import the usual suspects!\n",
    "\n",
    "import numpy as np\n",
    "import scipy.stats\n",
    "import matplotlib.pyplot as plt"
   ]
  },
  {
   "cell_type": "code",
   "execution_count": 14,
   "metadata": {},
   "outputs": [],
   "source": [
    "n = 100\n",
    "a_prior = 1\n",
    "b_prior = 1\n",
    "num_iter = 10**4\n",
    "Y_new = np.zeros(num_iter)\n",
    "\n",
    "# simulate theta from a Beta(1,1) and then simulate Y_1,...,Y_n from a Bernoulli(theta):\n",
    "theta = scipy.stats.beta.rvs(a = a_prior, b = b_prior, size = 1)\n",
    "y = scipy.stats.binom.rvs(n = 1, p = theta, size = n) # draw n samples of Ber(theta)\n",
    "# compute the new parameters\n",
    "a_post = a_prior + y.sum()\n",
    "b_post = b_prior +n - y.sum()\n",
    "\n",
    "for t in range(num_iter):\n",
    "    theta_post = scipy.stats.beta.rvs(a = a_post, b = b_post, size = 1)\n",
    "    Y_new[t] = scipy.stats.binom.rvs(n=1, p =theta_post, size = 1)"
   ]
  },
  {
   "cell_type": "code",
   "execution_count": 15,
   "metadata": {},
   "outputs": [
    {
     "name": "stdout",
     "output_type": "stream",
     "text": [
      "The posterior expectation of $\\theta$ is : 0.4019607843137255\n",
      "the simulated $\\mathbb P(Y_new = 1|y_1,\\dots, y_n) = $ 0.3989\n"
     ]
    }
   ],
   "source": [
    "print(f\"The posterior expectation of $\\\\theta$ is : {a_post/(a_post+b_post)}\")\n",
    "print(f\"the simulated $\\mathbb P(Y_new = 1|y_1,\\\\dots, y_n) = $ {Y_new.mean()}\")"
   ]
  },
  {
   "cell_type": "markdown",
   "metadata": {},
   "source": [
    "<h2> <a id = \"poisson\">Poisson Model </a></h2>\n",
    "\n",
    "For sample data that can be model with the Poisson distribution, let's find out what prior distribution is conjugate to it.\n",
    "\n",
    "First recall that, if $X\\sim Pois(\\theta)$ then its probability distribution is given by:\n",
    "\n",
    "$$\n",
    "p_X(x) =\\frac{\\theta^{x}\\exp(-\\theta)}{x!},\\quad \\text{for } x\\in \\mathbb{N}_0\n",
    "$$\n",
    "\n",
    "If the sample data $Y_1,\\dots, Y_n$ conditional on $\\theta$ is i.i.d following a Poisson model with parameter $\\theta$ and a prior distribution $p(\\theta)$, then the posterior distribution for $\\theta$ is:\n",
    "\n",
    "$$\n",
    "\\begin{align*}\n",
    "p(\\theta \\vert y_1,\\dots, y_n) =& \\frac{1}{p(y_1,\\dots,y_n)}p(y_1,\\dots, y_n \\vert \\theta)p(\\theta)\\\\\n",
    "= & c(y_1,\\dots, y_n)\\prod_{i=1}^n \\frac{\\theta^{y_i}\\exp(-\\theta)}{y_i!}p(\\theta) \\\\\n",
    "= & c(y_1,\\dots, y_n)\\theta^{\\sum_i y_i}\\exp(-n\\theta)p(\\theta)\n",
    "\\end{align*}\n",
    "$$\n",
    "\n",
    "where $c(y_1,\\dots, y_n)$ is the normalizing constant denpending only on the sample data:\n",
    "\n",
    "$$\n",
    "c(y_1,\\dots, y_n) = \\frac{1}{\\displaystyle\\int_{\\theta\\in\\Theta}\\theta^{\\sum_i y_i}\\exp(-n\\theta)p(\\theta)\\,d\\theta}\n",
    "$$"
   ]
  },
  {
   "cell_type": "markdown",
   "metadata": {},
   "source": [
    "Now, observe that in order for  $p(\\theta \\vert y_1,\\dots, y_n)$ to have the same shape than the prior, $p(\\theta)$ has to be of the form $\\theta^{a}\\exp(-b\\theta)$ for some $a, b>0$. The family of distributions of this type is the Gamma family. \n",
    "Thus, if the prior for $\\theta$ is a  $Gamma(\\alpha,\\beta)$, that is,\n",
    "\n",
    "$$\n",
    "p(\\theta) = \\frac{\\beta^{\\alpha}}{\\Gamma(\\alpha)}\\theta^{\\alpha -1}\\exp(-\\beta\\theta)I_{(0, +\\infty)}(\\theta),\n",
    "$$\n",
    "\n",
    "then, the posterior is \n",
    "\n",
    "$$\n",
    "p(\\theta \\vert y_1,\\dots, y_n) = c(y_1,\\dots, y_n,\\alpha, \\beta)\\theta^{\\alpha + \\sum_i y_i-1}\\exp(-(\\beta + n)\\theta).\n",
    "$$\n",
    "\n",
    "with $c(y_1,\\dots, y_n,\\alpha, \\beta) = 1/\\int_{\\theta}\\theta^{\\alpha + \\sum_i y_i-1}\\exp(-(\\beta + n)\\theta)$.\n",
    "\n",
    "Using the fact that for any $a,b>0$\n",
    "\n",
    "$$\n",
    "\\int_{0}^{+\\infty}\\theta^{a-1}\\exp(-b\\theta)\\,d\\theta = \\frac{\\Gamma(a)}{b^a},\n",
    "$$\n",
    "\n",
    "we conclude that:\n",
    "\n",
    "$$\n",
    "c(y_1,\\dots, y_n,\\alpha, \\beta) = \\frac{\\Gamma(\\alpha + \\sum_{i}y_i)}{(\\beta + n)^{\\alpha + \\sum_{i}y_i)}}\n",
    "$$\n",
    "\n",
    "\n",
    "In other words, the posterior is a $Gamma(\\alpha_{post},\\beta_{post})$ with\n",
    "\n",
    "$$\n",
    "\\alpha_{post} = \\alpha + \\sum_i y_i,\\quad \\text{and}\\quad \\beta_{post} = \\beta +n.\n",
    "$$"
   ]
  },
  {
   "cell_type": "markdown",
   "metadata": {},
   "source": [
    "**The posterior Expected value and Variance** for $\\theta$ is:\n",
    "\n",
    "$$\n",
    "\\begin{align*}\n",
    "\\mathbb{E}(\\theta \\vert y_1,\\dots, y_n) =& \\frac{\\alpha_{post}}{\\beta_{post}}\\\\\n",
    " =& \\frac{\\alpha +\\sum_i y_i}{\\beta +n} \\\\\n",
    " = & \\frac{\\beta}{\\beta +n}\\frac{\\alpha}{\\beta} + \\frac{n}{\\beta +n}\\bar{y}_n \n",
    "\\end{align*}\n",
    "$$\n",
    "\n",
    "The last expression says, as in the case of binomial data with beta prior, that this posterior expected value is a weighted sum of the prior expected value and the sample mean. Due to this expression the interpretations of $\\alpha, \\beta$ (the parameters of the prior distribution) are:\n",
    "\n",
    "* $\\beta$ is interpreted as the number of prior obaservations\n",
    "* $\\alpha$ is interpretes as the sum of counts from $\\beta$ prior observations.\n",
    "\n",
    "\n",
    "While the posterior variance is:\n",
    "\n",
    "$$\n",
    "\\begin{align*}\n",
    "\\text{Var}(\\theta\\vert y_1,\\dots, y_n) =& \\frac{\\alpha_{post}}{\\beta_{post}^2}\\\\\n",
    "= &\\frac{\\alpha +\\sum_i y_i}{(\\beta +n)^2}\\\\\n",
    " =& \\frac{\\beta^2}{(\\beta +n)^2}\\frac{\\alpha}{\\beta^2} + \\frac{n}{(\\beta + n)^2}\\frac{\\bar{y}_n}{n}\n",
    "\\end{align*}\n",
    "$$\n",
    "\n",
    "Note that for large $n$, the information from the data dominates and the posterior mean is approximately the sample mean, the same is true for the posterior variance:\n",
    "\n",
    "$$\n",
    "\\mathbb{E}(\\theta\\vert y_1,\\dots, y_n)\\approx \\bar{y}_n,\\qquad \\text{Var}(\\theta\\vert y_1, \\dots, y_n)\\approx \\frac{\\bar{y}_n}{n}\n",
    "$$"
   ]
  },
  {
   "cell_type": "markdown",
   "metadata": {},
   "source": [
    "<h3> Predictive Probability </h3>\n",
    "\n",
    "Predictions about new data can be obtained as follows:\n",
    "<a id = \"predictiveBN\">\n",
    "$$\n",
    "\\begin{align}\n",
    "p(y\\vert y_1,\\dots y_n) =& \\int_{0}^{\\infty}p(y,\\theta \\vert y_1,\\dots, y_n)\\,d\\theta \\notag\\\\ \n",
    " =& \\int_{0}^{\\infty}p(y\\vert \\theta, y_1,\\dots, y_n)p(\\theta\\vert y_1,\\dots y_n)\\,d\\theta \\notag\\\\\n",
    " =& \\int_{0}^{\\infty}p(y\\vert \\theta)p(\\theta\\vert y_1,\\dots y_n)\\,d\\theta \\notag\\\\\n",
    " =& \\frac{(\\beta_{post})^{\\alpha_{post}}}{y!\\Gamma(\\alpha_{post})}\\int_{0}^{\\infty} \\theta^{y}\\exp(-\\theta) \\theta^{\\alpha_{post}-1}\\exp(-\\beta_{post}\\theta)\\,d\\theta \\notag\\\\\n",
    " =& \\frac{(\\beta_{post})^{\\alpha_{post}}}{y!\\Gamma(\\alpha_{post})}\\left(\\frac{\\beta_{post}}{\\beta_{post} + 1}\\right)^{\\alpha_{post}}\\left(\\frac{1}{\\beta_{post} + 1} \\right)^{y}\n",
    "\\end{align}\n",
    "$$\n",
    "</a>\n",
    "\n",
    "That is, $y \\vert y_1,\\dots y_n\\sim BN(\\alpha_{post}, \\beta_{post}/(\\beta_{post} +1))$.\n"
   ]
  },
  {
   "cell_type": "markdown",
   "metadata": {},
   "source": [
    "Let's simulate some new data and plot its empirical distribution"
   ]
  },
  {
   "cell_type": "markdown",
   "metadata": {},
   "source": [
    "To  simulate new data, which has posterior predictive probability $p(y_{new}\\vert y_1,\\dots y_n)$ we run a Monte Carlo simulation, that is, lets say we wan to draw $n_{test}$ samples from this probability law, then at iteration $j$ we draw a sample $\\theta^{(j)}$ from $p(\\theta\\vert y_1,\\dots, y_n)$ and then draw a sample $\\tilde{y}^{(j)}$ from the distribution $p(y\\vert \\theta^{(j)})$.\n",
    "\n",
    "We could also draw samples from the posterior $p(y\\vert y_1, dots, y_n)$ that is, draw from the Negative Binomial distribution whose density is given in the last expression above"
   ]
  },
  {
   "cell_type": "code",
   "execution_count": 16,
   "metadata": {},
   "outputs": [],
   "source": [
    "import seaborn as sns"
   ]
  },
  {
   "cell_type": "code",
   "execution_count": 45,
   "metadata": {},
   "outputs": [],
   "source": [
    "N, n = 100, 70\n",
    "n_test = N - n\n",
    "a_prior, b_prior = 2, 1\n",
    "\n",
    "\n",
    "# draw a sample theta from Gamma(a_prior, b_prior) and draw n samples ~ Pois(theta):\n",
    "\n",
    "theta = scipy.stats.gamma.rvs(a = a_prior, scale = 1/b_prior, size = 1)\n",
    "\n",
    "Y_cond_theta = scipy.stats.poisson.rvs(mu = theta, size = N)\n",
    "Y = scipy.stats.nbinom.rvs(n = a_prior, p = b_prior/(b_prior+1), size = N)\n",
    "\n",
    "Y_cond_theta_train = Y_cond_theta[0:n]\n",
    "Y_cond_theta_test = Y_cond_theta[n:]\n",
    "\n",
    "Y_train = Y[0 : n]\n",
    "Y_test = Y[n : ]\n",
    "\n",
    "# the posterior for theta is Gamma(a_post, b_post):\n",
    "\n",
    "a_post = a_prior + sum(Y_cond_theta_train)\n",
    "b_post = b_prior + n\n",
    "\n",
    "theta_post = scipy.stats.gamma.rvs(a = a_post, scale=1/b_post, size = n_test)\n",
    "\n",
    "Y_cond_theta_new =scipy.stats.poisson.rvs(mu = theta_post, size = n_test)\n",
    "\n",
    "Y_new = scipy.stats.nbinom.rvs(n = a_post, p = b_post/(b_post + 1), size = n_test)\n",
    "\n",
    "\n",
    "\n"
   ]
  },
  {
   "cell_type": "code",
   "execution_count": 46,
   "metadata": {},
   "outputs": [
    {
     "data": {
      "image/png": "[encoded data removed]",
      "text/plain": [
       "<Figure size 1200x600 with 2 Axes>"
      ]
     },
     "metadata": {},
     "output_type": "display_data"
    }
   ],
   "source": [
    "plt.figure(figsize=(12,6))\n",
    "plt.subplot(121)\n",
    "sns.histplot(Y_cond_theta_test, bins= 100)\n",
    "plt.xlabel(\"$Y_{test}\\vert \\\\theta $\")  #+ f\"$ \\sim Pois({theta})$\")\n",
    "\n",
    "plt.subplot(122)\n",
    "sns.histplot(Y_cond_theta_new, bins=100)\n",
    "plt.xlabel(\"$Y_{new}|\\\\theta$\")  #| \\\\theta_{post}$\" + f\"$\\sim Pois({theta_post})$\")\n",
    "\n",
    "plt.show()"
   ]
  },
  {
   "cell_type": "code",
   "execution_count": 47,
   "metadata": {},
   "outputs": [
    {
     "data": {
      "image/png": "[encoded data removed]",
      "text/plain": [
       "<Figure size 1200x600 with 2 Axes>"
      ]
     },
     "metadata": {},
     "output_type": "display_data"
    }
   ],
   "source": [
    "plt.figure(figsize=(12,6))\n",
    "plt.subplot(121)\n",
    "sns.histplot(Y_cond_theta_new, bins = 100)\n",
    "plt.xlabel(\"$Y_{new}|\\\\theta$\")  # \\\\sim + f\"BN({a_prior, b_prior/(b_prior+1)})$\")\n",
    "\n",
    "plt.subplot(122)\n",
    "sns.histplot(Y_new, bins = 100)\n",
    "plt.xlabel(\"$Y_{new} $\") #\\\\sim+ f\"BN({a_post, b_post/(b_post+1)})$\")\n",
    "\n",
    "plt.show()"
   ]
  },
  {
   "cell_type": "code",
   "execution_count": 50,
   "metadata": {},
   "outputs": [
    {
     "data": {
      "image/png": "[encoded data removed]",
      "text/plain": [
       "<Figure size 1200x600 with 2 Axes>"
      ]
     },
     "metadata": {},
     "output_type": "display_data"
    }
   ],
   "source": [
    "plt.figure(figsize=(12,6))\n",
    "plt.subplot(121)\n",
    "sns.histplot(Y_new, bins = 100)\n",
    "plt.xlabel(\"$Y_{new}$\")  # \\\\sim + f\"BN({a_prior, b_prior/(b_prior+1)})$\")\n",
    "\n",
    "plt.subplot(122)\n",
    "sns.histplot(Y_test, bins = 100)\n",
    "plt.xlabel(\"$Y_{test} $\") #\\\\sim+ f\"BN({a_post, b_post/(b_post+1)})$\")\n",
    "\n",
    "plt.show()"
   ]
  },
  {
   "cell_type": "markdown",
   "metadata": {},
   "source": [
    "we make a Kolmogorov Smirnof test, this is a non parametric test for the equality of two distributions. It can be used with one sample and the target distribution or with two samples. Roughly speaking, it answers the question of how likely is two observed two samples like this if the were drawn from the same distribution.\n",
    "The null hypothesis for this test is that the given sample has the reference distribution (the one we are comparing to) or in the case of two samples, that they both have the same distribution. For more details on this test see the wikipedia <a href = \"https://en.wikipedia.org/wiki/Kolmogorov%E2%80%93Smirnov_test\"> article </a> and the references within."
   ]
  },
  {
   "cell_type": "markdown",
   "metadata": {},
   "source": [
    "In python we use the function **kstest** from the library **scipy.stats**. In this exampe we would like two compare thw two samples: $Y_{test}$ and $Y_{new}$ defined in the code cell above."
   ]
  },
  {
   "cell_type": "code",
   "execution_count": 48,
   "metadata": {},
   "outputs": [
    {
     "data": {
      "text/plain": [
       "KstestResult(statistic=0.1, pvalue=0.9988393756362763, statistic_location=2, statistic_sign=-1)"
      ]
     },
     "execution_count": 48,
     "metadata": {},
     "output_type": "execute_result"
    }
   ],
   "source": [
    "scipy.stats.kstest(Y_new, Y_cond_theta_new)"
   ]
  },
  {
   "cell_type": "code",
   "execution_count": 49,
   "metadata": {},
   "outputs": [
    {
     "data": {
      "text/plain": [
       "KstestResult(statistic=0.06666666666666667, pvalue=0.9999999909208507, statistic_location=4, statistic_sign=1)"
      ]
     },
     "execution_count": 49,
     "metadata": {},
     "output_type": "execute_result"
    }
   ],
   "source": [
    "scipy.stats.kstest(Y_cond_theta_test, Y_cond_theta_new)"
   ]
  },
  {
   "cell_type": "markdown",
   "metadata": {},
   "source": [
    "Since in both cases the $p-value$ is bigger than the stantadard significance levels (0.05, 0.01) we cannot reject the null hypothesis, that is, theres is statistically significative evidence that both samples come from the same distribution.\n"
   ]
  },
  {
   "cell_type": "markdown",
   "metadata": {},
   "source": [
    "**Observation**\n",
    "Although the $Y_1,\\dots, Y_n$ is a $\\theta$-random sample, meaning that $Y_1\\vert\\theta, \\dots, Y_n\\vert\\theta \\sim \\mathcal{P}oiss(\\theta)$ are iid random variables, this is not the case for the $Y_1,\\dots,Y_n$ unconditional sample. \n",
    "\n",
    "First, if   $Y\\vert \\theta \\sim \\mathcal{P}ois(\\theta)$ and $\\theta \\sim Gamma(\\alpha,\\beta)$ then the unconditional distribution of each $Y_i$ is a *Negative Binomial* with parameters $p = \\frac{\\beta}{\\beta +1}$ (success probability) and $r = \\alpha$ (number of succesess). This is because:\n",
    "\n",
    "$$\n",
    "\\begin{aligned}\n",
    "p(y) &= \\int_{\\theta}p(y\\vert\\theta)p(\\theta)d\\theta = \\frac{1}{y!}\\frac{\\beta^\\alpha}{\\Gamma(\\alpha)} \\int_{0}^{+\\infty}\\theta^{y}\\exp(-\\theta)\\theta^{\\alpha -1}\\exp(-\\beta\\theta)d\\theta\\\\\n",
    "& = \\frac{1}{y!}\\frac{\\beta^\\alpha}{\\Gamma(\\alpha)}\\int_{0}^{+\\infty}\\theta^{y +\\alpha -1}\\exp(-(\\beta+1)\\theta)d\\theta = \\frac{1}{y!}\\frac{\\beta^\\alpha}{\\Gamma(\\alpha)}\\frac{\\Gamma(y+\\alpha)}{(\\beta +1)^{y+\\alpha}}\\\\\n",
    "&= \\frac{\\Gamma(y + \\alpha)}{\\Gamma(y +1)\\Gamma(\\alpha)}\\left(\\frac{\\beta}{\\beta +1} \\right)^\\alpha \\left(\\frac{1}{\\beta +1} \\right)^{y}\n",
    "\\end{aligned}\n",
    "$$\n",
    "\n",
    "\n"
   ]
  },
  {
   "cell_type": "markdown",
   "metadata": {},
   "source": [
    "\n",
    "\n",
    "\n",
    "However, $Y_1,\\dots,Y_n$ are not independent\n",
    "\n",
    "In fact:\n",
    "\n",
    "$$\n",
    "\\begin{aligned}\n",
    "p(y_1,\\dots, y_n) =& \\int_{0}^{+\\infty}p(y_1,\\dots, y_n\\vert \\theta)p(\\theta)\\,d\\theta\\\\\n",
    "=& \\int_{0}^{+\\infty} \\prod_{i=1}^n p(y_i\\vert \\theta)p(\\theta)\\,d\\theta\\\\\n",
    "=& \\frac{1}{\\prod_{i}y_i!}\\frac{\\beta^{\\alpha}}{\\Gamma(\\alpha)}\\int_{0}^{+\\infty}\\theta^{\\sum_i y_i}\\exp(-n\\theta)\\exp(-\\beta\\theta)\\theta^{\\alpha-1}\\,d \\theta \\\\ \n",
    "=& \\frac{1}{\\prod_{i}y_i!}\\frac{\\beta^{\\alpha}}{\\Gamma(\\alpha)}\\int_{0}^{+\\infty}\\theta^{\\sum_i y_i +\\alpha -1}\\exp(-(n+\\beta)\\theta)\\,d\\theta\\\\\n",
    "=& \\frac{1}{\\prod_{i}y_i!}\\frac{\\beta^{\\alpha}}{\\Gamma(\\alpha)}\\frac{\\Gamma(\\sum_i y_i +\\alpha)}{(n+\\beta)^{\\sum_i y_i +\\alpha}}\\\\\n",
    "\\neq& \\prod_{i=1}^n p(y_i)\n",
    "\\end{aligned} \n",
    "$$\n",
    "\n",
    "where $p(y_i)= \\frac{\\Gamma(y_i + \\alpha)}{\\Gamma(y_i +1)\\Gamma(\\alpha)}\\left(\\frac{\\beta}{\\beta +1} \\right)^\\alpha \\left(\\frac{1}{\\beta +1} \\right)^{y_i}$. \n",
    "\n",
    "\n",
    "\n",
    "\n"
   ]
  },
  {
   "cell_type": "markdown",
   "metadata": {},
   "source": [
    "<a href=\"WorkedExamples\"> <h3> Worked Examples </h3> </a> "
   ]
  }
 ],
 "metadata": {
  "kernelspec": {
   "display_name": "Gatulin",
   "language": "python",
   "name": "python3"
  },
  "language_info": {
   "codemirror_mode": {
    "name": "ipython",
    "version": 3
   },
   "file_extension": ".py",
   "mimetype": "text/x-python",
   "name": "python",
   "nbconvert_exporter": "python",
   "pygments_lexer": "ipython3",
   "version": "3.10.8"
  },
  "orig_nbformat": 4
 },
 "nbformat": 4,
 "nbformat_minor": 2
}
